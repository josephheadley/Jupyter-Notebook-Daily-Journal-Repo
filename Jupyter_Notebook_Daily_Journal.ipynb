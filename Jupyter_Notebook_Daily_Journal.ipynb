{
 "cells": [
  {
   "cell_type": "markdown",
   "metadata": {},
   "source": [
    "### Daily Journal Jupyter Notebook Code"
   ]
  },
  {
   "cell_type": "markdown",
   "metadata": {},
   "source": [
    "This is a Jupyter Notebook with code copied directly from Moshe Zadka's article on opensource.com about writing daily journals in Jupyter Notebook."
   ]
  },
  {
   "cell_type": "code",
   "execution_count": 1,
   "metadata": {},
   "outputs": [
    {
     "name": "stdout",
     "output_type": "stream",
     "text": [
      "Collecting twisted\n",
      "  Downloading Twisted-20.3.0-cp37-cp37m-macosx_10_6_intel.whl (3.1 MB)\n",
      "\u001b[K     |████████████████████████████████| 3.1 MB 2.1 MB/s eta 0:00:01\n",
      "\u001b[?25hCollecting incremental>=16.10.1\n",
      "  Using cached incremental-17.5.0-py2.py3-none-any.whl (16 kB)\n",
      "Requirement already satisfied: attrs>=19.2.0 in /Users/josephheadley/opt/anaconda3/lib/python3.7/site-packages (from twisted) (19.3.0)\n",
      "Collecting constantly>=15.1\n",
      "  Using cached constantly-15.1.0-py2.py3-none-any.whl (7.9 kB)\n",
      "Collecting Automat>=0.3.0\n",
      "  Using cached Automat-20.2.0-py2.py3-none-any.whl (31 kB)\n",
      "Collecting zope.interface>=4.4.2\n",
      "  Downloading zope.interface-5.2.0-cp37-cp37m-macosx_10_9_x86_64.whl (193 kB)\n",
      "\u001b[K     |████████████████████████████████| 193 kB 20.2 MB/s eta 0:00:01\n",
      "\u001b[?25hCollecting PyHamcrest!=1.10.0,>=1.9.0\n",
      "  Using cached PyHamcrest-2.0.2-py3-none-any.whl (52 kB)\n",
      "Collecting hyperlink>=17.1.1\n",
      "  Using cached hyperlink-20.0.1-py2.py3-none-any.whl (48 kB)\n",
      "Requirement already satisfied: six in /Users/josephheadley/opt/anaconda3/lib/python3.7/site-packages (from Automat>=0.3.0->twisted) (1.14.0)\n",
      "Requirement already satisfied: setuptools in /Users/josephheadley/opt/anaconda3/lib/python3.7/site-packages (from zope.interface>=4.4.2->twisted) (46.0.0.post20200309)\n",
      "Requirement already satisfied: idna>=2.5 in /Users/josephheadley/opt/anaconda3/lib/python3.7/site-packages (from hyperlink>=17.1.1->twisted) (2.8)\n",
      "Installing collected packages: incremental, constantly, Automat, zope.interface, PyHamcrest, hyperlink, twisted\n",
      "Successfully installed Automat-20.2.0 PyHamcrest-2.0.2 constantly-15.1.0 hyperlink-20.0.1 incremental-17.5.0 twisted-20.3.0 zope.interface-5.2.0\n",
      "Note: you may need to restart the kernel to use updated packages.\n"
     ]
    }
   ],
   "source": [
    "pip install twisted"
   ]
  },
  {
   "cell_type": "code",
   "execution_count": 2,
   "metadata": {},
   "outputs": [
    {
     "name": "stderr",
     "output_type": "stream",
     "text": [
      ":0: UserWarning: You do not have a working installation of the service_identity module: 'No module named 'service_identity''.  Please install it from <https://pypi.python.org/pypi/service_identity> and make sure all of its dependencies are satisfied.  Without the service_identity module, Twisted can perform only rudimentary TLS client hostname verification.  Many valid certificate/hostname mappings may be rejected.\n"
     ]
    }
   ],
   "source": [
    "import twisted.internet.asyncioreactor\n",
    "twisted.internet.asyncioreactor.install()\n",
    "from twisted.internet import reactor, task\n",
    "import ipywidgets, datetime, subprocess, functools, os"
   ]
  },
  {
   "cell_type": "code",
   "execution_count": 3,
   "metadata": {},
   "outputs": [],
   "source": [
    "class DoneError(Exception):\n",
    "    pass"
   ]
  },
  {
   "cell_type": "code",
   "execution_count": 4,
   "metadata": {},
   "outputs": [],
   "source": [
    "def time_out_counter(reactor):\n",
    "    label = ipywidgets.Label(\"Time left: 10:00\")\n",
    "    current_seconds = datetime.timedelta(minutes=10).total_seconds()\n",
    "    def decrement(count):\n",
    "        nonlocal current_seconds\n",
    "        current_seconds -= count\n",
    "        time_left = datetime.timedelta(seconds=max(current_seconds, 0))\n",
    "        minutes, left = divmod(time_left, minute)\n",
    "        seconds = int(left.total_seconds())\n",
    "        label.value = f\"Time left: {minutes}:{seconds:02}\"\n",
    "        if current_seconds < 0:\n",
    "            raise DoneError(\"finished\")\n",
    "    minute = datetime.timedelta(minutes=1)\n",
    "    call = task.LoopingCall.withCount(decrement)\n",
    "    call.reactor = reactor\n",
    "    d = call.start(1)\n",
    "    d.addErrback(lambda f: f.trap(DoneError))\n",
    "    return d, label"
   ]
  },
  {
   "cell_type": "code",
   "execution_count": 5,
   "metadata": {},
   "outputs": [],
   "source": [
    "def editor(fname):\n",
    "    textarea = ipywidgets.Textarea(continuous_update=False)\n",
    "    textarea.rows = 20\n",
    "    output = ipywidgets.Output()\n",
    "    runner = functools.partial(subprocess.run, capture_output=True, text=True, check=True)\n",
    "    def save(_ignored):\n",
    "        with output:\n",
    "            with open(fname, \"w\") as fpout:\n",
    "                fpout.write(textarea.value)\n",
    "            print(\"Sending...\", end='')\n",
    "            try:\n",
    "                runner([\"git\", \"add\", fname])\n",
    "                runner([\"git\", \"commit\", \"-m\", f\"updated {fname}\"])\n",
    "                runner([\"git\", \"push\"])\n",
    "            except subprocess.CalledProcessError as exc:\n",
    "                print(\"Could not send\")\n",
    "                print(exc.stdout)\n",
    "                print(exc.stderr)\n",
    "            else:\n",
    "                 print(\"Done\")\n",
    "    textarea.observe(save, names=\"value\")\n",
    "    return textarea, output, save"
   ]
  },
  {
   "cell_type": "code",
   "execution_count": 6,
   "metadata": {},
   "outputs": [],
   "source": [
    "def journal():\n",
    "    date = str(datetime.date.today())\n",
    "    title = f\"Log: Startdate {date}\"\n",
    "    filename = os.path.join(f\"{date}.txt\")\n",
    "    d, clock = time_out_counter(reactor)\n",
    "    textarea, output, save = editor(filename)\n",
    "    box = ipywidgets.VBox([\n",
    "        ipywidgets.Label(title),\n",
    "        textarea,\n",
    "        clock,\n",
    "        output\n",
    "    ])\n",
    "    d.addCallback(save)\n",
    "    return box"
   ]
  },
  {
   "cell_type": "code",
   "execution_count": 7,
   "metadata": {},
   "outputs": [
    {
     "data": {
      "application/vnd.jupyter.widget-view+json": {
       "model_id": "a68a372084454a23bbd638749d01a4cb",
       "version_major": 2,
       "version_minor": 0
      },
      "text/plain": [
       "VBox(children=(Label(value='Log: Startdate 2020-12-26'), Textarea(value='', continuous_update=False, rows=20),…"
      ]
     },
     "metadata": {},
     "output_type": "display_data"
    }
   ],
   "source": [
    "journal()"
   ]
  }
 ],
 "metadata": {
  "kernelspec": {
   "display_name": "Python 3",
   "language": "python",
   "name": "python3"
  },
  "language_info": {
   "codemirror_mode": {
    "name": "ipython",
    "version": 3
   },
   "file_extension": ".py",
   "mimetype": "text/x-python",
   "name": "python",
   "nbconvert_exporter": "python",
   "pygments_lexer": "ipython3",
   "version": "3.7.6"
  }
 },
 "nbformat": 4,
 "nbformat_minor": 4
}
