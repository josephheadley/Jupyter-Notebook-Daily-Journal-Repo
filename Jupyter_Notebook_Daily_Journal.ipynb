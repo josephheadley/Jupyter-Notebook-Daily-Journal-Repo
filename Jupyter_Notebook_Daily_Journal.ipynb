{
 "cells": [
  {
   "cell_type": "markdown",
   "metadata": {},
   "source": [
    "### Daily Journal Jupyter Notebook Code"
   ]
  },
  {
   "cell_type": "markdown",
   "metadata": {},
   "source": [
    "This is a Jupyter Notebook with code copied directly from Moshe Zadka's article on opensource.com about writing daily journals in Jupyter Notebook."
   ]
  },
  {
   "cell_type": "code",
   "execution_count": 1,
   "metadata": {},
   "outputs": [],
   "source": [
    "import twisted.internet.asyncioreactor\n",
    "twisted.internet.asyncioreactor.install()\n",
    "from twisted.internet import reactor, task\n",
    "import ipywidgets, datetime, subprocess, functools, os"
   ]
  },
  {
   "cell_type": "code",
   "execution_count": 2,
   "metadata": {},
   "outputs": [],
   "source": [
    "class DoneError(Exception):\n",
    "    pass"
   ]
  },
  {
   "cell_type": "code",
   "execution_count": 3,
   "metadata": {},
   "outputs": [],
   "source": [
    "def time_out_counter(reactor):\n",
    "    label = ipywidgets.Label(\"Time left: 10:00\")\n",
    "    current_seconds = datetime.timedelta(minutes=10).total_seconds()\n",
    "    def decrement(count):\n",
    "        nonlocal current_seconds\n",
    "        current_seconds -= count\n",
    "        time_left = datetime.timedelta(seconds=max(current_seconds, 0))\n",
    "        minutes, left = divmod(time_left, minute)\n",
    "        seconds = int(left.total_seconds())\n",
    "        label.value = f\"Time left: {minutes}:{seconds:02}\"\n",
    "        if current_seconds < 0:\n",
    "            raise DoneError(\"finished\")\n",
    "    minute = datetime.timedelta(minutes=1)\n",
    "    call = task.LoopingCall.withCount(decrement)\n",
    "    call.reactor = reactor\n",
    "    d = call.start(1)\n",
    "    d.addErrback(lambda f: f.trap(DoneError))\n",
    "    return d, label"
   ]
  },
  {
   "cell_type": "code",
   "execution_count": 4,
   "metadata": {},
   "outputs": [],
   "source": [
    "def editor(fname):\n",
    "    textarea = ipywidgets.Textarea(continuous_update=False)\n",
    "    textarea.rows = 20\n",
    "    output = ipywidgets.Output()\n",
    "    runner = functools.partial(subprocess.run, capture_output=True, text=True, check=True)\n",
    "    def save(_ignored):\n",
    "        with output:\n",
    "            with open(fname, \"w\") as fpout:\n",
    "                fpout.write(textarea.value)\n",
    "            print(\"Sending...\", end='')\n",
    "            try:\n",
    "                runner([\"git\", \"add\", fname])\n",
    "                runner([\"git\", \"commit\", \"-m\", f\"updated {fname}\"])\n",
    "                runner([\"git\", \"push\"])\n",
    "            except subprocess.CalledProcessError as exc:\n",
    "                print(\"Could not send\")\n",
    "                print(exc.stdout)\n",
    "                print(exc.stderr)\n",
    "            else:\n",
    "                 print(\"Done\")\n",
    "    textarea.observe(save, names=\"value\")\n",
    "    return textarea, output, save"
   ]
  },
  {
   "cell_type": "code",
   "execution_count": 5,
   "metadata": {},
   "outputs": [],
   "source": [
    "def journal():\n",
    "    date = str(datetime.date.today())\n",
    "    title = f\"Log: Startdate {date}\"\n",
    "    filename = os.path.join(f\"{date}.txt\")\n",
    "    d, clock = time_out_counter(reactor)\n",
    "    textarea, output, save = editor(filename)\n",
    "    box = ipywidgets.VBox([\n",
    "        ipywidgets.Label(title),\n",
    "        textarea,\n",
    "        clock,\n",
    "        output\n",
    "    ])\n",
    "    d.addCallback(save)\n",
    "    return box"
   ]
  },
  {
   "cell_type": "code",
   "execution_count": 6,
   "metadata": {},
   "outputs": [
    {
     "data": {
      "application/vnd.jupyter.widget-view+json": {
       "model_id": "22d6beef62f84b8b86df8bbd5632598a",
       "version_major": 2,
       "version_minor": 0
      },
      "text/plain": [
       "VBox(children=(Label(value='Log: Startdate 2020-12-24'), Textarea(value='', continuous_update=False, rows=20),…"
      ]
     },
     "metadata": {},
     "output_type": "display_data"
    }
   ],
   "source": [
    "journal()"
   ]
  }
 ],
 "metadata": {
  "kernelspec": {
   "display_name": "Python 3",
   "language": "python",
   "name": "python3"
  },
  "language_info": {
   "codemirror_mode": {
    "name": "ipython",
    "version": 3
   },
   "file_extension": ".py",
   "mimetype": "text/x-python",
   "name": "python",
   "nbconvert_exporter": "python",
   "pygments_lexer": "ipython3",
   "version": "3.9.1"
  }
 },
 "nbformat": 4,
 "nbformat_minor": 4
}
