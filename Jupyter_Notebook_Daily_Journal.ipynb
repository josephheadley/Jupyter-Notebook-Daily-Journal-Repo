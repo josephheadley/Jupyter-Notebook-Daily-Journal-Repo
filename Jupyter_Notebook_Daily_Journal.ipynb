{
 "cells": [
  {
   "cell_type": "code",
   "execution_count": 1,
   "metadata": {},
   "outputs": [],
   "source": [
    "import twisted.internet.asyncioreactor\n",
    "twisted.internet.asyncioreactor.install()\n",
    "from twisted.internet import reactor, task\n",
    "import ipywidgets, datetime, subprocess, functools, os"
   ]
  },
  {
   "cell_type": "code",
   "execution_count": 2,
   "metadata": {},
   "outputs": [],
   "source": [
    "class DoneError(Exception):\n",
    "    pass"
   ]
  },
  {
   "cell_type": "code",
   "execution_count": 3,
   "metadata": {},
   "outputs": [],
   "source": [
    "def time_out_counter(reactor):\n",
    "    label = ipywidgets.Label(\"Time left: 5:00\")\n",
    "    current_seconds = datetime.timedelta(minutes=5).total_seconds()\n",
    "    def decrement(count):\n",
    "        nonlocal current_seconds\n",
    "        current_seconds -= count\n",
    "        time_left = datetime.timedelta(seconds=max(current_seconds, 0))\n",
    "        minutes, left = divmod(time_left, minute)\n",
    "        seconds = int(left.total_seconds())\n",
    "        label.value = f\"Time left: {minutes}:{seconds:02}\"\n",
    "        if current_seconds < 0:\n",
    "            raise DoneError(\"finished\")\n",
    "    minute = datetime.timedelta(minutes=1)\n",
    "    call = task.LoopingCall.withCount(decrement)\n",
    "    call.reactor = reactor\n",
    "    d = call.start(1)\n",
    "    d.addErrback(lambda f: f.trap(DoneError))\n",
    "    return d, label"
   ]
  },
  {
   "cell_type": "code",
   "execution_count": null,
   "metadata": {},
   "outputs": [],
   "source": []
  }
 ],
 "metadata": {
  "kernelspec": {
   "display_name": "Python 3",
   "language": "python",
   "name": "python3"
  },
  "language_info": {
   "codemirror_mode": {
    "name": "ipython",
    "version": 3
   },
   "file_extension": ".py",
   "mimetype": "text/x-python",
   "name": "python",
   "nbconvert_exporter": "python",
   "pygments_lexer": "ipython3",
   "version": "3.9.1"
  }
 },
 "nbformat": 4,
 "nbformat_minor": 4
}
